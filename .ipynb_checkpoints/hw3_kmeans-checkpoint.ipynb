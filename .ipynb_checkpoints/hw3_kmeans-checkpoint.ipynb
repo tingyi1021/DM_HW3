{
 "cells": [
  {
   "cell_type": "code",
   "execution_count": 1,
   "metadata": {},
   "outputs": [
    {
     "name": "stdout",
     "output_type": "stream",
     "text": [
      "[2 2 2 ... 1 1 1]\n",
      "{0: 8246, 1: 9106, 2: 5734}\n"
     ]
    }
   ],
   "source": [
    "from sklearn import datasets\n",
    "from sklearn.cluster import KMeans\n",
    "import matplotlib.pyplot as plt\n",
    "from sklearn.metrics import confusion_matrix\n",
    "import pandas as pd\n",
    "import numpy as np\n",
    "\n",
    "dic = {}\n",
    "df = pd.read_csv('./west-nile-virus-wnv-mosquito-test-results.csv', encoding=\"utf-8\")\n",
    "df = df.drop(columns = 'LOCATION')\n",
    "df['TEST DATE'] = df['TEST DATE'].str.split('T').str[0].str.replace('-', '')\n",
    "nonNumCol = ['TRAP', 'BLOCK', 'TRAP_TYPE', 'RESULT', 'SPECIES']\n",
    "for col in nonNumCol:\n",
    "    df[col] = df[col].astype('category')\n",
    "    dic[col] = dict(enumerate(df[col].cat.categories))\n",
    "    df[col] = df[col].cat.codes\n",
    "df = df.dropna()\n",
    "X = df.to_numpy()\n",
    "print(\"to_numpy over\")\n",
    "\n",
    "estimator = KMeans(n_clusters=3)  # 構造聚類器\n",
    "estimator.fit(X)  # 聚類\n",
    "\n",
    "label_pred = estimator.labels_  # 獲取聚類標籤\n",
    "print(label_pred)\n",
    "\n",
    "label, count = np.unique(label_pred, return_counts=True)\n",
    "label_dict = dict(zip(label, count))\n",
    "print(label_dict)\n"
   ]
  },
  {
   "cell_type": "code",
   "execution_count": null,
   "metadata": {},
   "outputs": [],
   "source": []
  }
 ],
 "metadata": {
  "kernelspec": {
   "display_name": "Python 3",
   "language": "python",
   "name": "python3"
  },
  "language_info": {
   "codemirror_mode": {
    "name": "ipython",
    "version": 3
   },
   "file_extension": ".py",
   "mimetype": "text/x-python",
   "name": "python",
   "nbconvert_exporter": "python",
   "pygments_lexer": "ipython3",
   "version": "3.6.7"
  }
 },
 "nbformat": 4,
 "nbformat_minor": 2
}
